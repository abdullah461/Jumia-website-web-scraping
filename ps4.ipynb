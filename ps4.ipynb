{
 "cells": [
  {
   "cell_type": "markdown",
   "metadata": {},
   "source": [
    "## Our goal is to get all the latest play station 4 with its accesories sold on jumia and their prices.\n"
   ]
  },
  {
   "cell_type": "code",
   "execution_count": 7,
   "metadata": {},
   "outputs": [],
   "source": [
    "\n",
    "# import libraries\n",
    "from bs4 import BeautifulSoup\n",
    "import requests\n",
    "import datetime\n",
    "\n",
    "# view the file\n",
    "import pandas as pd\n",
    "\n",
    "#getting date so as to add the date for each item when uploaded by jumia\n",
    "day = datetime.date.today()"
   ]
  },
  {
   "cell_type": "code",
   "execution_count": 3,
   "metadata": {},
   "outputs": [],
   "source": [
    "#connect to website\n",
    "url = requests.get('https://www.jumia.com.ng/catalog/?q=play+station+4')\n",
    "soup = BeautifulSoup(url.content, 'html.parser')\n"
   ]
  },
  {
   "cell_type": "code",
   "execution_count": 10,
   "metadata": {},
   "outputs": [],
   "source": [
    "# find all the playstation data \n",
    "all_ps4 = soup.find_all('a', class_='core')\n",
    "\n",
    "# table header\n",
    "title =['Name', 'Price', 'Day']\n",
    "\n",
    "#getting into the dataframe\n",
    "df = pd.DataFrame(columns=title)\n",
    "\n",
    "#getting each playstation and accessories with its price\n",
    "for ps4 in all_ps4:\n",
    "  name = ps4.find('h3', class_='name').text\n",
    "  price = ps4.find('div', class_='prc').text\n",
    "  \n",
    "  #remove all white-space and unwanted character\n",
    "  name = name.strip()\n",
    "  price = price.strip()[1:]  \n",
    "  \n",
    "  #turning data into list\n",
    "  row_data = [name, price, day]\n",
    "  \n",
    "  # length of dataframe which is no of rows in dataframe\n",
    "  length = len(df)\n",
    "\n",
    "  # loc means location\n",
    "  # so for each location checked row_data is inserted  \n",
    "  df.loc[length] = row_data\n",
    "  \n",
    "#saving dataframe into csv 'comma seperated value'  \n",
    "df.to_csv(r'jumia_ps4.csv')\n",
    "\n",
    "#saving dataframe into Excel  \n",
    "df.to_csv(r'jumia_ps4.xlsx')\n"
   ]
  },
  {
   "cell_type": "markdown",
   "metadata": {},
   "source": [
    "This code will be updated soon to be able to send mail Automatically to your email when new play station 4\n",
    "or its accessories is added in the jumia website.\n",
    "\n",
    "Thank you for reading"
   ]
  }
 ],
 "metadata": {
  "kernelspec": {
   "display_name": "Python 3",
   "language": "python",
   "name": "python3"
  },
  "language_info": {
   "codemirror_mode": {
    "name": "ipython",
    "version": 3
   },
   "file_extension": ".py",
   "mimetype": "text/x-python",
   "name": "python",
   "nbconvert_exporter": "python",
   "pygments_lexer": "ipython3",
   "version": "3.11.1"
  },
  "orig_nbformat": 4
 },
 "nbformat": 4,
 "nbformat_minor": 2
}
